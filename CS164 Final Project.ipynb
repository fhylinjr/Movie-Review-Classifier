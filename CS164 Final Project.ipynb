{
 "cells": [
  {
   "cell_type": "code",
   "execution_count": 1,
   "id": "4af6585e",
   "metadata": {},
   "outputs": [
    {
     "name": "stderr",
     "output_type": "stream",
     "text": [
      "[nltk_data] Downloading package punkt to /Users/phili1/nltk_data...\n",
      "[nltk_data]   Package punkt is already up-to-date!\n",
      "[nltk_data] Downloading package averaged_perceptron_tagger to\n",
      "[nltk_data]     /Users/phili1/nltk_data...\n",
      "[nltk_data]   Package averaged_perceptron_tagger is already up-to-\n",
      "[nltk_data]       date!\n",
      "[nltk_data] Downloading package wordnet to /Users/phili1/nltk_data...\n",
      "[nltk_data]   Unzipping corpora/wordnet.zip.\n"
     ]
    },
    {
     "data": {
      "text/plain": [
       "True"
      ]
     },
     "execution_count": 1,
     "metadata": {},
     "output_type": "execute_result"
    }
   ],
   "source": [
    "#!pip install selenium\n",
    "import pandas as pd\n",
    "import numpy as np\n",
    "from nltk.tokenize import word_tokenize\n",
    "from nltk import pos_tag\n",
    "from nltk.corpus import stopwords\n",
    "from nltk.stem import WordNetLemmatizer\n",
    "from sklearn.preprocessing import LabelEncoder\n",
    "from collections import defaultdict\n",
    "from nltk.corpus import wordnet as wn\n",
    "from sklearn.feature_extraction.text import TfidfVectorizer\n",
    "from sklearn import model_selection, naive_bayes, svm\n",
    "from sklearn.metrics import accuracy_score\n",
    "import nltk\n",
    "import csv\n",
    "import time\n",
    "import numpy as np\n",
    "import cvxpy as cvx\n",
    "from selenium import webdriver\n",
    "nltk.download('punkt')\n",
    "nltk.download('averaged_perceptron_tagger')\n",
    "nltk.download('wordnet')"
   ]
  },
  {
   "cell_type": "code",
   "execution_count": 2,
   "id": "d5df2517",
   "metadata": {},
   "outputs": [
    {
     "name": "stderr",
     "output_type": "stream",
     "text": [
      "/var/folders/q7/vcl44_tj7gs2cg2r8fc3tqgr0000gq/T/ipykernel_36573/3058070728.py:8: DeprecationWarning: executable_path has been deprecated, please pass in a Service object\n",
      "  driver = webdriver.Chrome('/Users/phili1/Downloads/chromedriver')  # Optional argument, if not specified will search path.\n",
      "/var/folders/q7/vcl44_tj7gs2cg2r8fc3tqgr0000gq/T/ipykernel_36573/3058070728.py:19: DeprecationWarning: find_elements_by_* commands are deprecated. Please use find_elements() instead\n",
      "  all_reviews = driver.find_elements_by_class_name('audience-reviews__item')\n",
      "/Users/phili1/opt/anaconda3/lib/python3.9/site-packages/selenium/webdriver/remote/webelement.py:393: UserWarning: find_element_by_* commands are deprecated. Please use find_element() instead\n",
      "  warnings.warn(\"find_element_by_* commands are deprecated. Please use find_element() instead\")\n",
      "/Users/phili1/opt/anaconda3/lib/python3.9/site-packages/selenium/webdriver/remote/webelement.py:502: UserWarning: find_elements_by_* commands are deprecated. Please use find_elements() instead\n",
      "  warnings.warn(\"find_elements_by_* commands are deprecated. Please use find_elements() instead\")\n",
      "/var/folders/q7/vcl44_tj7gs2cg2r8fc3tqgr0000gq/T/ipykernel_36573/3058070728.py:67: DeprecationWarning: find_element_by_* commands are deprecated. Please use find_element() instead\n",
      "  driver.find_element_by_class_name('js-prev-next-paging-next').click()\n"
     ]
    }
   ],
   "source": [
    "import time\n",
    "from selenium import webdriver\n",
    "from selenium.common.exceptions import StaleElementReferenceException, NoSuchElementException, NoSuchWindowException\n",
    "\n",
    "# URL to the first page of audience reviews for Casino Royale\n",
    "URL = 'https://www.rottentomatoes.com/m/casino_royale/reviews?type=user'\n",
    "# create a Chrome webdriver \n",
    "driver = webdriver.Chrome('/Users/phili1/Downloads/chromedriver')  # Optional argument, if not specified will search path.\n",
    "# driver.implicitly_wait(1)\n",
    "first_review_prev_batch = ''\n",
    "num_reviews = 0            \n",
    "def store_data():\n",
    "    global num_reviews \n",
    "    global first_review_prev_batch\n",
    "    reviews = []\n",
    "    rates = []\n",
    "    while True:\n",
    "        try:\n",
    "            all_reviews = driver.find_elements_by_class_name('audience-reviews__item')\n",
    "            end = len(all_reviews)\n",
    "            i = 0\n",
    "            for element in all_reviews:\n",
    "                i += 1\n",
    "                p_elem = element.find_element_by_xpath(\".//p[@class='audience-reviews__review js-review-text clamp clamp-8 js-clamp']\")\n",
    "                review = p_elem.text\n",
    "                if review == first_review_prev_batch:\n",
    "                    break\n",
    "                reviews.append(review)\n",
    "                # get the number of stars (full or half)\n",
    "                star_elem = element.find_elements_by_css_selector(\".star-display__filled\")\n",
    "                # if there are more than 3 full stars (rate >= 3.5), then the review is positive\n",
    "                if len(star_elem) > 3:\n",
    "                    rate = 'positive'\n",
    "                else:\n",
    "                    rate = 'negative'\n",
    "                rates.append(rate)\n",
    "            if i == end:\n",
    "                break\n",
    "        # StaleElementsReferenceException occurs when my internet connection was slow, and \n",
    "        # therefore the web navigates after the data is scraped, causing insconsitencies.\n",
    "        # Therefore, this exception needs to be caught.\n",
    "        except StaleElementReferenceException:\n",
    "            reviews = []\n",
    "            rates = []\n",
    "            pass\n",
    "    \n",
    "    # write to csv file:\n",
    "    for i in range(len(reviews)):\n",
    "        if i==0:\n",
    "            first_review_prev_batch = reviews[i]\n",
    "        with open('rottentomato.csv', mode='a') as file:\n",
    "            writer = csv.writer(file, delimiter=',', quotechar='\"', quoting=csv.QUOTE_MINIMAL)\n",
    "            writer.writerow([reviews[i], rates[i]])\n",
    "    num_reviews += len(reviews)\n",
    "            \n",
    "\n",
    "with open('rottentomato.csv', mode='w') as file:\n",
    "            writer = csv.writer(file, delimiter=',', quotechar='\"', quoting=csv.QUOTE_MINIMAL)\n",
    "            writer.writerow(['text', 'label'])\n",
    "driver.get(URL);\n",
    "store_data()\n",
    "\n",
    "while True:\n",
    "    if num_reviews >= 20000:\n",
    "        break\n",
    "    try:\n",
    "        driver.find_element_by_class_name('js-prev-next-paging-next').click()\n",
    "        time.sleep(1)\n",
    "    except:\n",
    "        break\n",
    "    store_data()\n",
    "driver.quit()"
   ]
  },
  {
   "cell_type": "markdown",
   "id": "b796f3fe",
   "metadata": {},
   "source": [
    "# Prep data"
   ]
  },
  {
   "cell_type": "code",
   "execution_count": 6,
   "id": "49296ee1",
   "metadata": {},
   "outputs": [
    {
     "data": {
      "text/html": [
       "<div>\n",
       "<style scoped>\n",
       "    .dataframe tbody tr th:only-of-type {\n",
       "        vertical-align: middle;\n",
       "    }\n",
       "\n",
       "    .dataframe tbody tr th {\n",
       "        vertical-align: top;\n",
       "    }\n",
       "\n",
       "    .dataframe thead th {\n",
       "        text-align: right;\n",
       "    }\n",
       "</style>\n",
       "<table border=\"1\" class=\"dataframe\">\n",
       "  <thead>\n",
       "    <tr style=\"text-align: right;\">\n",
       "      <th></th>\n",
       "      <th>text</th>\n",
       "      <th>label</th>\n",
       "    </tr>\n",
       "  </thead>\n",
       "  <tbody>\n",
       "    <tr>\n",
       "      <th>0</th>\n",
       "      <td>Casino Royale aka The Adventures of the Sneaky...</td>\n",
       "      <td>positive</td>\n",
       "    </tr>\n",
       "    <tr>\n",
       "      <th>1</th>\n",
       "      <td>Casino Royale is filled with action, drama and...</td>\n",
       "      <td>positive</td>\n",
       "    </tr>\n",
       "    <tr>\n",
       "      <th>2</th>\n",
       "      <td>James Bond is acted decently, the film however...</td>\n",
       "      <td>negative</td>\n",
       "    </tr>\n",
       "    <tr>\n",
       "      <th>3</th>\n",
       "      <td>Daniel Craig begins his outings as Bond, James...</td>\n",
       "      <td>positive</td>\n",
       "    </tr>\n",
       "    <tr>\n",
       "      <th>4</th>\n",
       "      <td>And now to Daniel Craig. I remember all the fl...</td>\n",
       "      <td>positive</td>\n",
       "    </tr>\n",
       "  </tbody>\n",
       "</table>\n",
       "</div>"
      ],
      "text/plain": [
       "                                                text     label\n",
       "0  Casino Royale aka The Adventures of the Sneaky...  positive\n",
       "1  Casino Royale is filled with action, drama and...  positive\n",
       "2  James Bond is acted decently, the film however...  negative\n",
       "3  Daniel Craig begins his outings as Bond, James...  positive\n",
       "4  And now to Daniel Craig. I remember all the fl...  positive"
      ]
     },
     "execution_count": 6,
     "metadata": {},
     "output_type": "execute_result"
    }
   ],
   "source": [
    "np.random.seed(500)\n",
    "Corpus = pd.read_csv(r\"rottentomato.csv\",encoding='latin-1')\n",
    "Corpus.head()"
   ]
  },
  {
   "cell_type": "code",
   "execution_count": 7,
   "id": "c9577697",
   "metadata": {},
   "outputs": [
    {
     "name": "stderr",
     "output_type": "stream",
     "text": [
      "[nltk_data] Downloading package stopwords to\n",
      "[nltk_data]     /Users/phili1/nltk_data...\n",
      "[nltk_data]   Package stopwords is already up-to-date!\n"
     ]
    },
    {
     "data": {
      "text/html": [
       "<div>\n",
       "<style scoped>\n",
       "    .dataframe tbody tr th:only-of-type {\n",
       "        vertical-align: middle;\n",
       "    }\n",
       "\n",
       "    .dataframe tbody tr th {\n",
       "        vertical-align: top;\n",
       "    }\n",
       "\n",
       "    .dataframe thead th {\n",
       "        text-align: right;\n",
       "    }\n",
       "</style>\n",
       "<table border=\"1\" class=\"dataframe\">\n",
       "  <thead>\n",
       "    <tr style=\"text-align: right;\">\n",
       "      <th></th>\n",
       "      <th>text</th>\n",
       "      <th>label</th>\n",
       "      <th>text_final</th>\n",
       "    </tr>\n",
       "  </thead>\n",
       "  <tbody>\n",
       "    <tr>\n",
       "      <th>0</th>\n",
       "      <td>[casino, royale, aka, the, adventures, of, the...</td>\n",
       "      <td>positive</td>\n",
       "      <td>['casino', 'royale', 'aka', 'adventure', 'snea...</td>\n",
       "    </tr>\n",
       "    <tr>\n",
       "      <th>1</th>\n",
       "      <td>[casino, royale, is, filled, with, action, ,, ...</td>\n",
       "      <td>positive</td>\n",
       "      <td>['casino', 'royale', 'fill', 'action', 'drama'...</td>\n",
       "    </tr>\n",
       "    <tr>\n",
       "      <th>2</th>\n",
       "      <td>[james, bond, is, acted, decently, ,, the, fil...</td>\n",
       "      <td>negative</td>\n",
       "      <td>['james', 'bond', 'act', 'decently', 'film', '...</td>\n",
       "    </tr>\n",
       "    <tr>\n",
       "      <th>3</th>\n",
       "      <td>[daniel, craig, begins, his, outings, as, bond...</td>\n",
       "      <td>positive</td>\n",
       "      <td>['daniel', 'craig', 'begin', 'outing', 'bond',...</td>\n",
       "    </tr>\n",
       "    <tr>\n",
       "      <th>4</th>\n",
       "      <td>[and, now, to, daniel, craig, ., i, remember, ...</td>\n",
       "      <td>positive</td>\n",
       "      <td>['daniel', 'craig', 'remember', 'flack', 'anno...</td>\n",
       "    </tr>\n",
       "  </tbody>\n",
       "</table>\n",
       "</div>"
      ],
      "text/plain": [
       "                                                text     label  \\\n",
       "0  [casino, royale, aka, the, adventures, of, the...  positive   \n",
       "1  [casino, royale, is, filled, with, action, ,, ...  positive   \n",
       "2  [james, bond, is, acted, decently, ,, the, fil...  negative   \n",
       "3  [daniel, craig, begins, his, outings, as, bond...  positive   \n",
       "4  [and, now, to, daniel, craig, ., i, remember, ...  positive   \n",
       "\n",
       "                                          text_final  \n",
       "0  ['casino', 'royale', 'aka', 'adventure', 'snea...  \n",
       "1  ['casino', 'royale', 'fill', 'action', 'drama'...  \n",
       "2  ['james', 'bond', 'act', 'decently', 'film', '...  \n",
       "3  ['daniel', 'craig', 'begin', 'outing', 'bond',...  \n",
       "4  ['daniel', 'craig', 'remember', 'flack', 'anno...  "
      ]
     },
     "execution_count": 7,
     "metadata": {},
     "output_type": "execute_result"
    }
   ],
   "source": [
    "nltk.download('stopwords')\n",
    "# Step - a : Remove blank rows if any.\n",
    "Corpus['text'].dropna(inplace=True)\n",
    "# Step - b : Change all the text to lower case. This is required as python interprets 'dog' and 'DOG' differently\n",
    "Corpus['text'] = [entry.lower() for entry in Corpus['text']]\n",
    "# Step - c : Tokenization : In this each entry in the corpus will be broken into set of words\n",
    "Corpus['text']= [word_tokenize(entry) for entry in Corpus['text']]\n",
    "# Step - d : Remove Stop words, Non-Numeric and perfom Word Stemming/Lemmenting.\n",
    "# WordNetLemmatizer requires Pos tags to understand if the word is noun or verb or adjective etc. By default it is set to Noun\n",
    "tag_map = defaultdict(lambda : wn.NOUN)\n",
    "tag_map['J'] = wn.ADJ\n",
    "tag_map['V'] = wn.VERB\n",
    "tag_map['R'] = wn.ADV\n",
    "for index,entry in enumerate(Corpus['text']):\n",
    "    # Declaring Empty List to store the words that follow the rules for this step\n",
    "    Final_words = []\n",
    "    # Initializing WordNetLemmatizer()\n",
    "    word_Lemmatized = WordNetLemmatizer()\n",
    "    # pos_tag function below will provide the 'tag' i.e if the word is Noun(N) or Verb(V) or something else.\n",
    "    for word, tag in pos_tag(entry):\n",
    "        # Below condition is to check for Stop words and consider only alphabets\n",
    "        if word not in stopwords.words('english') and word.isalpha():\n",
    "            word_Final = word_Lemmatized.lemmatize(word,tag_map[tag[0]])\n",
    "            Final_words.append(word_Final)\n",
    "    # The final processed set of words for each iteration will be stored in 'text_final'\n",
    "    Corpus.loc[index,'text_final'] = str(Final_words)\n",
    "\n",
    "Corpus.head()"
   ]
  },
  {
   "cell_type": "code",
   "execution_count": 8,
   "id": "ec1b309c",
   "metadata": {},
   "outputs": [
    {
     "name": "stdout",
     "output_type": "stream",
     "text": [
      "Shape of training data: (14000, 5000)\n",
      "Shape of training label: (14000,)\n",
      "Shape of testing data: (6000, 5000)\n",
      "Shape of testing label: (6000,)\n"
     ]
    }
   ],
   "source": [
    "# train test split\n",
    "Train_X, Test_X, Train_Y, Test_Y = model_selection.train_test_split(Corpus['text_final'],Corpus['label'],test_size=0.3)\n",
    "Encoder = LabelEncoder()\n",
    "Train_Y = Encoder.fit_transform(Train_Y)\n",
    "Test_Y = Encoder.fit_transform(Test_Y)\n",
    "Tfidf_vect = TfidfVectorizer(max_features=5000)\n",
    "Tfidf_vect.fit(Corpus['text_final'])\n",
    "Train_X_Tfidf = Tfidf_vect.transform(Train_X)\n",
    "Test_X_Tfidf = Tfidf_vect.transform(Test_X)\n",
    "print('Shape of training data:', Train_X_Tfidf.shape)\n",
    "print('Shape of training label:', Train_Y.shape)\n",
    "print('Shape of testing data:', Test_X_Tfidf.shape)\n",
    "print('Shape of testing label:', Test_Y.shape)\n"
   ]
  },
  {
   "cell_type": "code",
   "execution_count": 9,
   "id": "62628406",
   "metadata": {},
   "outputs": [
    {
     "name": "stdout",
     "output_type": "stream",
     "text": [
      "5000\n"
     ]
    }
   ],
   "source": [
    "# the size of the vocab \n",
    "print(len(Tfidf_vect.vocabulary_))\n",
    "# Relabel the data so that the labels are 1 and -1\n",
    "for i in range(Train_Y.shape[0]):\n",
    "    if Train_Y[i] == 0:\n",
    "        Train_Y[i] = -1"
   ]
  },
  {
   "cell_type": "markdown",
   "id": "73bac9d9",
   "metadata": {},
   "source": [
    "# CVXPY"
   ]
  },
  {
   "cell_type": "code",
   "execution_count": 13,
   "id": "25b59dec",
   "metadata": {},
   "outputs": [],
   "source": [
    "def svm_cvx(x,y,C=1):\n",
    "    # define some parameters\n",
    "    # number of samples/ data poitns\n",
    "    n = x.shape[0]\n",
    "    # number of features\n",
    "    m = x.shape[1]\n",
    "\n",
    "\n",
    "    # create variables\n",
    "    w = cvx.Variable(m)\n",
    "    eps = cvx.Variable(n) # a vector of n epsilons corresponding to n data points\n",
    "    b = cvx.Variable()\n",
    "\n",
    "    # objective function\n",
    "    obj = cvx.Minimize((cvx.norm(w))**2)\n",
    "    obj = cvx.Minimize(cvx.sum_squares(w))\n",
    "    # prob = cvx.Problem(obj)\n",
    "    # cvx.sum_squares(w) is w.T w \n",
    "    obj = cvx.Minimize(.5*cvx.sum_squares(w) + C*cvx.sum(eps))\n",
    "    # constraints\n",
    "    ## Constraint set 1. y_i(w.Tx_i + b)>= 1 - eps_i\n",
    "    con = [-y[i]*(x[i]@w + b) + 1 - eps[i] <= 0 for i in range(n)]\n",
    "    # con = [-y[i]*(cvx.sum(cvx.multiply(w,x[i])) + b) + 1 - eps[i] <= 0 for i in range(n)]\n",
    "    ## Constraint set 2.\n",
    "    # con = [w[i] <= 0 for i in range(m)]\n",
    "    con.extend([-eps[i] <= 0 for i in range(n)])\n",
    "\n",
    "    # solve the problem \n",
    "    prob = cvx.Problem(obj, con)\n",
    "    prob.solve() \n",
    "    return w.value, b.value, prob.value \n",
    "\n",
    "def compute_decision(w,b,x):\n",
    "    \"\"\"\n",
    "    Given w and b, calculate the classification of all data points x.\n",
    "    \n",
    "    Inputs:\n",
    "    - w: array of shape (m,). m is the number of features\n",
    "    - b: float \n",
    "    - x: array of shape (n,m), containing the data points to classify\n",
    "    \"\"\"\n",
    "    m = w.shape[0]\n",
    "    n = x.shape[0]\n",
    "    decision = np.matmul(w.transpose().reshape((1,m)), x.transpose()) +b \n",
    "    # one side of the decision boundary is class 1, the other class -1 \n",
    "    decision[decision>0] = 1\n",
    "    decision[decision<=0] = -1\n",
    "    return decision "
   ]
  },
  {
   "cell_type": "markdown",
   "id": "80b18291",
   "metadata": {},
   "source": [
    "# CVXPY vs Sklearn\n",
    "**This part shows that cvxpy implementation works properly**"
   ]
  },
  {
   "cell_type": "code",
   "execution_count": 14,
   "id": "34f82866",
   "metadata": {},
   "outputs": [
    {
     "name": "stdout",
     "output_type": "stream",
     "text": [
      "Finished C= 0.1\n",
      "Finished C= 0.5\n",
      "Finished C= 1\n",
      "Finished C= 2\n",
      "Finished C= 5\n",
      "Finished C= 8\n",
      "Finished C= 10\n",
      "\n",
      "C = 0.1 : 0 mismatches\n",
      "C = 0.5 : 0 mismatches\n",
      "C = 1 : 3 mismatches\n",
      "C = 2 : 1 mismatches\n",
      "C = 5 : 1 mismatches\n",
      "C = 8 : 0 mismatches\n",
      "C = 10 : 0 mismatches\n"
     ]
    }
   ],
   "source": [
    "C_list = [0.1, 0.5, 1, 2, 5, 8, 10]\n",
    "diff_list = []\n",
    "predictions = []\n",
    "margin_width_list = []\n",
    "cost_list = []\n",
    "for C in C_list:\n",
    "    # sklearn implementation\n",
    "    SVM = svm.SVC(C=C, kernel='linear',)\n",
    "    SVM.fit(Train_X_Tfidf,Train_Y)\n",
    "    # predict the labels on validation dataset\n",
    "    predict_sk = SVM.predict(Test_X_Tfidf)\n",
    "    \n",
    "    # CVXPY implementation\n",
    "    w, b, cost = svm_cvx(x=Train_X_Tfidf.toarray(), y=Train_Y, C=C)\n",
    "    # store the margin width\n",
    "    margin_width_list.append(2/((w.dot(w))**.5))\n",
    "    # store the cost\n",
    "    cost_list.append(cost)\n",
    "    # predict the labels on validation dataset\n",
    "    predict_cvx = compute_decision(w,b,x=Test_X_Tfidf.toarray())\n",
    "    predictions.append(predict_cvx)\n",
    "    # compare the predictions from the 2 implementations\n",
    "    num_diff = np.sum(predict_sk != predict_cvx)\n",
    "    diff_list.append(num_diff)\n",
    "    print('Finished C=', C)\n",
    "\n",
    "print()\n",
    "for i in range(len(C_list)):\n",
    "    print('C =', C_list[i], ':', diff_list[i], 'mismatches')"
   ]
  },
  {
   "cell_type": "markdown",
   "id": "2429a412",
   "metadata": {},
   "source": [
    "# Evaluate"
   ]
  },
  {
   "cell_type": "code",
   "execution_count": 15,
   "id": "5d655320",
   "metadata": {},
   "outputs": [
    {
     "data": {
      "image/png": "[encoded data removed]",
      "text/plain": [
       "<Figure size 432x288 with 1 Axes>"
      ]
     },
     "metadata": {
      "needs_background": "light"
     },
     "output_type": "display_data"
    },
    {
     "name": "stdout",
     "output_type": "stream",
     "text": [
      "\n"
     ]
    },
    {
     "data": {
      "image/png": "[encoded data removed]",
      "text/plain": [
       "<Figure size 432x288 with 1 Axes>"
      ]
     },
     "metadata": {
      "needs_background": "light"
     },
     "output_type": "display_data"
    },
    {
     "name": "stdout",
     "output_type": "stream",
     "text": [
      "\n"
     ]
    },
    {
     "data": {
      "image/png": "[encoded data removed]",
      "text/plain": [
       "<Figure size 432x288 with 1 Axes>"
      ]
     },
     "metadata": {
      "needs_background": "light"
     },
     "output_type": "display_data"
    }
   ],
   "source": [
    "# Relabel the test data so that the labels are 1 and -1\n",
    "for i in range(Test_Y.shape[0]):\n",
    "    if Test_Y[i] == 0:\n",
    "        Test_Y[i] = -1\n",
    "        \n",
    "# C vs cost \n",
    "import matplotlib.pyplot as plt\n",
    "plt.plot(C_list, cost_list)\n",
    "plt.ylim(ymin=0)\n",
    "plt.xlabel('C')\n",
    "plt.ylabel('optimization cost')\n",
    "plt.show()\n",
    "\n",
    "print()\n",
    "# C vs marin width\n",
    "plt.plot(C_list, margin_width_list)\n",
    "plt.ylim(ymin=0)\n",
    "plt.xlabel('C')\n",
    "plt.ylabel('margin width')\n",
    "plt.show()\n",
    "\n",
    "print()\n",
    "# precision vs recall \n",
    "from sklearn.metrics import precision_score\n",
    "from sklearn.metrics import recall_score\n",
    "y_true = Test_Y\n",
    "precision_list = []\n",
    "recall_list = []\n",
    "# precision and recall for different values of C\n",
    "for i in range(len(C_list)):\n",
    "    y_pred = predictions[i].reshape(6000)\n",
    "    # compute precision\n",
    "    precision_list.append(precision_score(y_true, y_pred, pos_label=-1))\n",
    "    # compute recall\n",
    "    recall_list.append(recall_score(y_true, y_pred, pos_label=-1))\n",
    "    \n",
    "\n",
    "# plot it!\n",
    "import matplotlib.pyplot as plt\n",
    "plt.plot(C_list, precision_list, label='precision')\n",
    "plt.plot(C_list, recall_list, label='recall')\n",
    "plt.ylim(ymin=0)\n",
    "plt.legend()\n",
    "plt.xlabel('C')\n",
    "plt.show()\n"
   ]
  },
  {
   "cell_type": "code",
   "execution_count": null,
   "id": "6fe2c005",
   "metadata": {},
   "outputs": [],
   "source": []
  }
 ],
 "metadata": {
  "kernelspec": {
   "display_name": "Python 3 (ipykernel)",
   "language": "python",
   "name": "python3"
  },
  "language_info": {
   "codemirror_mode": {
    "name": "ipython",
    "version": 3
   },
   "file_extension": ".py",
   "mimetype": "text/x-python",
   "name": "python",
   "nbconvert_exporter": "python",
   "pygments_lexer": "ipython3",
   "version": "3.9.7"
  }
 },
 "nbformat": 4,
 "nbformat_minor": 5
}
